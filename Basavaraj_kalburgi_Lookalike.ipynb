{
  "nbformat": 4,
  "nbformat_minor": 0,
  "metadata": {
    "colab": {
      "provenance": []
    },
    "kernelspec": {
      "name": "python3",
      "display_name": "Python 3"
    },
    "language_info": {
      "name": "python"
    }
  },
  "cells": [
    {
      "cell_type": "code",
      "execution_count": 2,
      "metadata": {
        "colab": {
          "base_uri": "https://localhost:8080/"
        },
        "id": "nrfMcbvhnhjH",
        "outputId": "f91dcfa7-53ff-4a0a-efe6-2a9c5c6ed97f"
      },
      "outputs": [
        {
          "output_type": "stream",
          "name": "stdout",
          "text": [
            "  cust_id                                         lookalikes\n",
            "0   C0001  [('C0190', 0.968215451295126), ('C0048', 0.941...\n",
            "1   C0002  [('C0088', 0.9544024281819798), ('C0134', 0.92...\n",
            "2   C0003  [('C0052', 0.9847977904024423), ('C0152', 0.92...\n",
            "3   C0004  [('C0165', 0.9738306048704476), ('C0155', 0.95...\n",
            "4   C0005  [('C0186', 0.9717374531257306), ('C0146', 0.94...\n",
            "5   C0006  [('C0168', 0.978264001321209), ('C0171', 0.938...\n",
            "6   C0007  [('C0140', 0.9798101409546568), ('C0115', 0.92...\n",
            "7   C0008  [('C0139', 0.9135397162249627), ('C0194', 0.87...\n",
            "8   C0009  [('C0010', 0.9760669630706748), ('C0198', 0.95...\n",
            "9   C0010  [('C0009', 0.9760669630706748), ('C0111', 0.97...\n",
            "Lookalike recommendations saved as 'Lookalike.csv'\n"
          ]
        }
      ],
      "source": [
        "# Import required libraries\n",
        "import pandas as pd\n",
        "from sklearn.metrics.pairwise import cosine_similarity\n",
        "from sklearn.preprocessing import StandardScaler\n",
        "\n",
        "# Load datasets\n",
        "customers = pd.read_csv('/content/Customers.csv')\n",
        "products = pd.read_csv('/content/Products.csv')\n",
        "transactions = pd.read_csv('/content/Transactions.csv')\n",
        "\n",
        "# Merge datasets\n",
        "data = transactions.merge(customers, on=\"CustomerID\", how=\"left\")\n",
        "data = data.merge(products, on=\"ProductID\", how=\"left\")\n",
        "\n",
        "# Feature Engineering\n",
        "# Aggregate transaction data for each customer\n",
        "customer_features = data.groupby(\"CustomerID\").agg(\n",
        "    total_spending=pd.NamedAgg(column=\"TotalValue\", aggfunc=\"sum\"),\n",
        "    avg_spending=pd.NamedAgg(column=\"TotalValue\", aggfunc=\"mean\"),\n",
        "    total_transactions=pd.NamedAgg(column=\"TransactionID\", aggfunc=\"count\"),\n",
        "    preferred_category=pd.NamedAgg(column=\"Category\", aggfunc=lambda x: x.mode()[0] if not x.mode().empty else None)\n",
        ").reset_index()\n",
        "\n",
        "# Encode categorical features\n",
        "customer_features = customer_features.merge(customers[[\"CustomerID\", \"Region\"]], on=\"CustomerID\", how=\"left\")\n",
        "customer_features = pd.get_dummies(customer_features, columns=[\"preferred_category\", \"Region\"], drop_first=True)\n",
        "\n",
        "# Normalize numerical features\n",
        "scaler = StandardScaler()\n",
        "numerical_cols = [\"total_spending\", \"avg_spending\", \"total_transactions\"]\n",
        "customer_features[numerical_cols] = scaler.fit_transform(customer_features[numerical_cols])\n",
        "\n",
        "# Prepare data for similarity computation\n",
        "# Set \"CustomerID\" as the index but do not attempt to drop it afterward\n",
        "feature_matrix = customer_features.set_index(\"CustomerID\")\n",
        "\n",
        "# Compute the similarity matrix\n",
        "similarity_matrix = cosine_similarity(feature_matrix)\n",
        "\n",
        "# Create a DataFrame to hold the similarity matrix with CustomerID as both rows and columns\n",
        "customer_ids = customer_features[\"CustomerID\"].tolist()\n",
        "similarity_df = pd.DataFrame(similarity_matrix, index=customer_ids, columns=customer_ids)\n",
        "\n",
        "\n",
        "# Generate Lookalike recommendations for customers C0001 to C0020\n",
        "lookalikes = {}\n",
        "for customer_id in customer_ids[:20]:\n",
        "    # Sort similarity scores in descending order, excluding the customer itself\n",
        "    similar_customers = similarity_df[customer_id].sort_values(ascending=False).iloc[1:4]\n",
        "    lookalikes[customer_id] = list(zip(similar_customers.index, similar_customers.values))\n",
        "\n",
        "# Save lookalikes to Lookalike.csv\n",
        "lookalike_df = pd.DataFrame([\n",
        "    {\"cust_id\": cust_id, \"lookalikes\": str(lookalike_list)}\n",
        "    for cust_id, lookalike_list in lookalikes.items()\n",
        "])\n",
        "lookalike_df.to_csv(\"Lookalike.csv\", index=False)\n",
        "\n",
        "# Display a sample of Lookalike.csv\n",
        "print(lookalike_df.head(10))\n",
        "\n",
        "# Save as an output file\n",
        "lookalike_df.to_csv(\"Lookalike.csv\", index=False)\n",
        "print(\"Lookalike recommendations saved as 'Lookalike.csv'\")\n"
      ]
    }
  ]
}